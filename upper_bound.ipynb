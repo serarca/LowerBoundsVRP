{
 "cells": [
  {
   "cell_type": "code",
   "execution_count": 3,
   "metadata": {
    "collapsed": true
   },
   "outputs": [],
   "source": [
    "import sys\n",
    "sys.path.insert(0, '/Users/sergiocamelo/Dropbox/Sergio-Joann/Code')\n",
    "import VRPClass\n",
    "\n",
    "import numpy as np\n",
    "from scipy.spatial import distance_matrix\n",
    "from scipy.spatial.distance import pdist\n",
    "import copy\n",
    "from copy import deepcopy\n",
    "import lower_bound\n",
    "lower_bound = reload(lower_bound)\n",
    "\n",
    "# We want to solve the Vehicle Routing Problem\n",
    "# We first generate a random problem\n",
    "k = 2\n",
    "m = 1\n",
    "n = 10\n",
    "\n",
    "H = ['h_'+str(i) for i in range(k)]\n",
    "M = ['m_'+str(i) for i in range(m)]\n",
    "N = ['n_'+str(i) for i in range(n)]\n",
    "\n",
    "H_p = np.random.rand(k,2)\n",
    "M_p = np.random.rand(m,2)\n",
    "N_p = np.random.rand(n,2)\n",
    "\n",
    "quantities = {f: 1 for i,f in enumerate(N)}\n",
    "capacities = {h:5 for i,h in enumerate(H)}\n",
    "type_dist = 'euclid'\n",
    "\n",
    "vrp = VRPClass.VRP(H, N, H_p, N_p, quantities, capacities, type_dist, M = M, M_p = M_p)\n",
    "#vrp.draw_problem()\n"
   ]
  },
  {
   "cell_type": "code",
   "execution_count": 4,
   "metadata": {
    "collapsed": false
   },
   "outputs": [
    {
     "ename": "ValueError",
     "evalue": "all the input arrays must have same number of dimensions",
     "output_type": "error",
     "traceback": [
      "\u001b[0;31m---------------------------------------------------------------------------\u001b[0m",
      "\u001b[0;31mValueError\u001b[0m                                Traceback (most recent call last)",
      "\u001b[0;32m<ipython-input-4-90432dc0f51d>\u001b[0m in \u001b[0;36m<module>\u001b[0;34m()\u001b[0m\n\u001b[1;32m      1\u001b[0m \u001b[0;32mimport\u001b[0m \u001b[0mlower_bound\u001b[0m\u001b[0;34m\u001b[0m\u001b[0m\n\u001b[0;32m----> 2\u001b[0;31m \u001b[0mmax_val\u001b[0m\u001b[0;34m,\u001b[0m\u001b[0mu_opt\u001b[0m\u001b[0;34m,\u001b[0m\u001b[0mv_opt\u001b[0m\u001b[0;34m,\u001b[0m\u001b[0mlamb_opt\u001b[0m \u001b[0;34m=\u001b[0m \u001b[0mlower_bound\u001b[0m\u001b[0;34m.\u001b[0m\u001b[0moptimize_lower_bound_c\u001b[0m\u001b[0;34m(\u001b[0m\u001b[0;36m1000\u001b[0m\u001b[0;34m,\u001b[0m \u001b[0;36m10\u001b[0m\u001b[0;34m,\u001b[0m \u001b[0;36m0.1\u001b[0m\u001b[0;34m,\u001b[0m \u001b[0mH\u001b[0m\u001b[0;34m,\u001b[0m\u001b[0mcapacities\u001b[0m\u001b[0;34m,\u001b[0m\u001b[0mN\u001b[0m\u001b[0;34m,\u001b[0m\u001b[0mquantities\u001b[0m\u001b[0;34m,\u001b[0m\u001b[0mvrp\u001b[0m\u001b[0;34m.\u001b[0m\u001b[0mdistance\u001b[0m\u001b[0;34m)\u001b[0m\u001b[0;34m\u001b[0m\u001b[0m\n\u001b[0m",
      "\u001b[0;32m/Users/sergiocamelo/Dropbox/Sergio-Joann/Code/LowerBoundsC/lower_bound.pyc\u001b[0m in \u001b[0;36moptimize_lower_bound_c\u001b[0;34m(iterations, z_ub, epsilon, H, capacities, N, quantities, distance_mat)\u001b[0m\n\u001b[1;32m    402\u001b[0m \u001b[0;34m\u001b[0m\u001b[0m\n\u001b[1;32m    403\u001b[0m     \u001b[0;32mfor\u001b[0m \u001b[0mi\u001b[0m \u001b[0;32min\u001b[0m \u001b[0mrange\u001b[0m\u001b[0;34m(\u001b[0m\u001b[0miterations\u001b[0m\u001b[0;34m)\u001b[0m\u001b[0;34m:\u001b[0m\u001b[0;34m\u001b[0m\u001b[0m\n\u001b[0;32m--> 404\u001b[0;31m         \u001b[0mdistance_\u001b[0m \u001b[0;34m=\u001b[0m \u001b[0mreduced_cost_mat\u001b[0m\u001b[0;34m(\u001b[0m\u001b[0mlamb_\u001b[0m\u001b[0;34m,\u001b[0m \u001b[0mdistance_mat\u001b[0m\u001b[0;34m,\u001b[0m \u001b[0mN_\u001b[0m\u001b[0;34m)\u001b[0m\u001b[0;34m\u001b[0m\u001b[0m\n\u001b[0m\u001b[1;32m    405\u001b[0m         \u001b[0mresults_c\u001b[0m \u001b[0;34m=\u001b[0m \u001b[0mcpp_lower_bounds\u001b[0m\u001b[0;34m.\u001b[0m\u001b[0mlower_bound\u001b[0m\u001b[0;34m(\u001b[0m\u001b[0mH_\u001b[0m\u001b[0;34m,\u001b[0m\u001b[0mcapacities_\u001b[0m\u001b[0;34m,\u001b[0m\u001b[0mN_\u001b[0m\u001b[0;34m,\u001b[0m\u001b[0mquantities_\u001b[0m\u001b[0;34m,\u001b[0m\u001b[0mdistance_\u001b[0m\u001b[0;34m,\u001b[0m\u001b[0mmu_\u001b[0m\u001b[0;34m,\u001b[0m\u001b[0mlamb_\u001b[0m\u001b[0;34m)\u001b[0m\u001b[0;34m\u001b[0m\u001b[0m\n\u001b[1;32m    406\u001b[0m         \u001b[0mz_lb\u001b[0m \u001b[0;34m=\u001b[0m \u001b[0mresults_c\u001b[0m\u001b[0;34m[\u001b[0m\u001b[0;34m\"z_lb\"\u001b[0m\u001b[0;34m]\u001b[0m\u001b[0;34m\u001b[0m\u001b[0m\n",
      "\u001b[0;32m/Users/sergiocamelo/Dropbox/Sergio-Joann/Code/LowerBoundsC/lower_bound.pyc\u001b[0m in \u001b[0;36mreduced_cost_mat\u001b[0;34m(distance_mat, lamb_, mu_)\u001b[0m\n\u001b[1;32m     43\u001b[0m \u001b[0;31m# Generates a matrix of reduced costs given a distance and a lambda vector and a mu vector\u001b[0m\u001b[0;34m\u001b[0m\u001b[0;34m\u001b[0m\u001b[0m\n\u001b[1;32m     44\u001b[0m \u001b[0;32mdef\u001b[0m \u001b[0mreduced_cost_mat\u001b[0m\u001b[0;34m(\u001b[0m\u001b[0mdistance_mat\u001b[0m\u001b[0;34m,\u001b[0m \u001b[0mlamb_\u001b[0m\u001b[0;34m,\u001b[0m \u001b[0mmu_\u001b[0m\u001b[0;34m)\u001b[0m\u001b[0;34m:\u001b[0m\u001b[0;34m\u001b[0m\u001b[0m\n\u001b[0;32m---> 45\u001b[0;31m     \u001b[0mpenalties\u001b[0m \u001b[0;34m=\u001b[0m \u001b[0mnp\u001b[0m\u001b[0;34m.\u001b[0m\u001b[0mconcatenate\u001b[0m\u001b[0;34m(\u001b[0m\u001b[0;34m(\u001b[0m\u001b[0mlamb_\u001b[0m\u001b[0;34m,\u001b[0m \u001b[0mmu_\u001b[0m\u001b[0;34m)\u001b[0m\u001b[0;34m)\u001b[0m\u001b[0;34m\u001b[0m\u001b[0m\n\u001b[0m\u001b[1;32m     46\u001b[0m     \u001b[0mdistance\u001b[0m \u001b[0;34m=\u001b[0m \u001b[0mcopy\u001b[0m\u001b[0;34m.\u001b[0m\u001b[0mdeepcopy\u001b[0m\u001b[0;34m(\u001b[0m\u001b[0mdistance_mat\u001b[0m\u001b[0;34m)\u001b[0m\u001b[0;34m\u001b[0m\u001b[0m\n\u001b[1;32m     47\u001b[0m     \u001b[0;32mfor\u001b[0m \u001b[0mi\u001b[0m \u001b[0;32min\u001b[0m \u001b[0mrange\u001b[0m\u001b[0;34m(\u001b[0m\u001b[0mlen\u001b[0m\u001b[0;34m(\u001b[0m\u001b[0mpenalties\u001b[0m\u001b[0;34m)\u001b[0m\u001b[0;34m)\u001b[0m\u001b[0;34m:\u001b[0m\u001b[0;34m\u001b[0m\u001b[0m\n",
      "\u001b[0;31mValueError\u001b[0m: all the input arrays must have same number of dimensions"
     ]
    }
   ],
   "source": [
    "import lower_bound\n",
    "max_val,u_opt,v_opt,lamb_opt = lower_bound.optimize_lower_bound_c(1000, 10, 0.1, H,capacities,N,quantities,vrp.distance)\n"
   ]
  },
  {
   "cell_type": "code",
   "execution_count": null,
   "metadata": {
    "collapsed": true
   },
   "outputs": [],
   "source": []
  }
 ],
 "metadata": {
  "kernelspec": {
   "display_name": "Python [default]",
   "language": "python",
   "name": "python2"
  },
  "language_info": {
   "codemirror_mode": {
    "name": "ipython",
    "version": 2
   },
   "file_extension": ".py",
   "mimetype": "text/x-python",
   "name": "python",
   "nbconvert_exporter": "python",
   "pygments_lexer": "ipython2",
   "version": "2.7.10"
  }
 },
 "nbformat": 4,
 "nbformat_minor": 1
}
